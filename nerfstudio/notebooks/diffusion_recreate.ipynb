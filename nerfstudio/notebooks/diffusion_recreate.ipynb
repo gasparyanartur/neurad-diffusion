{
 "cells": [
  {
   "cell_type": "code",
   "execution_count": 1,
   "metadata": {},
   "outputs": [
    {
     "name": "stdout",
     "output_type": "stream",
     "text": [
      "/home/gasparyanartur/dev/neurad-studio\n"
     ]
    }
   ],
   "source": [
    "%load_ext autoreload\n",
    "%autoreload 2\n",
    "%cd ~/dev/neurad-studio"
   ]
  },
  {
   "cell_type": "code",
   "execution_count": 9,
   "metadata": {},
   "outputs": [],
   "source": [
    "from typing import Optional\n",
    "from diffusers import AutoencoderKL, DDPMScheduler, StableDiffusionImg2ImgPipeline, UNet2DConditionModel\n",
    "from diffusers.image_processor import VaeImageProcessor\n",
    "from transformers import AutoTokenizer\n",
    "\n",
    "from nerfstudio.generative.diffusion_model import DiffusionModelId\n",
    "from nerfstudio.scripts.run_train_lora import import_encoder_class_from_model_name_or_path\n",
    "\n",
    "model_id = DiffusionModelId.sd_v2_1\n",
    "revision: str = \"main\"\n",
    "variant: Optional[str] = None \n"
   ]
  },
  {
   "cell_type": "code",
   "execution_count": 15,
   "metadata": {},
   "outputs": [
    {
     "name": "stderr",
     "output_type": "stream",
     "text": [
      "You are using a model of type clip_text_model to instantiate a model of type . This is not supported for all configurations of models and can yield errors.\n"
     ]
    }
   ],
   "source": [
    "img_processor = VaeImageProcessor()\n",
    "\n",
    "noise_scheduler = DDPMScheduler.from_pretrained(\n",
    "    model_id, subfolder=\"scheduler\"\n",
    ")\n",
    "\n",
    "unet = UNet2DConditionModel.from_pretrained(\n",
    "    model_id,\n",
    "    subfolder=\"unet\",\n",
    "    revision=revision,\n",
    "    variant=variant,\n",
    "\n",
    ")\n",
    "\n",
    "tokenizer = AutoTokenizer.from_pretrained(\n",
    "    model_id,\n",
    "    subfolder=\"tokenizer\",\n",
    "    revision=revision,\n",
    "    use_fast=False,\n",
    ")\n",
    "\n",
    "text_encoder_cls = import_encoder_class_from_model_name_or_path(\n",
    "    model_id, revision, subfolder=\"text_encoder\"\n",
    ")\n",
    "\n",
    "text_encoder = text_encoder_cls.from_pretrained(\n",
    "    model_id,\n",
    "    subfolder=\"text_encoder\",\n",
    "    revision=revision,\n",
    "    variant=variant,\n",
    ")\n",
    "\n",
    "vae = AutoencoderKL.from_pretrained(\n",
    "    model_id,\n",
    "    subfolder=\"vae\",\n",
    "    revision=revision,\n",
    "    variant=variant,\n",
    "\n",
    ")\n"
   ]
  },
  {
   "cell_type": "code",
   "execution_count": null,
   "metadata": {},
   "outputs": [],
   "source": []
  }
 ],
 "metadata": {
  "kernelspec": {
   "display_name": "venv",
   "language": "python",
   "name": "python3"
  },
  "language_info": {
   "codemirror_mode": {
    "name": "ipython",
    "version": 3
   },
   "file_extension": ".py",
   "mimetype": "text/x-python",
   "name": "python",
   "nbconvert_exporter": "python",
   "pygments_lexer": "ipython3",
   "version": "3.10.12"
  }
 },
 "nbformat": 4,
 "nbformat_minor": 2
}
