{
 "cells": [
  {
   "cell_type": "code",
   "execution_count": null,
   "metadata": {},
   "outputs": [],
   "source": [
    "from nerfstudio.generative.diffusion_model import DiffusionModelConfig, DiffusionModelId, DiffusionModelType"
   ]
  },
  {
   "cell_type": "code",
   "execution_count": null,
   "metadata": {},
   "outputs": [],
   "source": [
    "from dataclasses import asdict\n",
    "\n",
    "from nerfstudio.generative.diffusion_model import DiffusionModelConfig, DiffusionModelId, DiffusionModelType\n",
    "\n",
    "config=DiffusionModelConfig(\n",
    "        max_steps=20001,\n",
    "        calc_fid_steps=tuple(range(0, 20001, 5000)),\n",
    "        ray_patch_size=(128, 128),\n",
    "        nerf_checkpoint=\"/home/gasparyanartur/dev/outputs/imaginedriving/imaginedriving-001-331982-1/imaginedriving/2024-05-25_130744/nerfstudio_models/step-000020000.ckpt\",\n",
    "        datamanager=ADDataManagerConfig(\n",
    "            train_num_lidar_rays_per_batch=8192,\n",
    "            eval_num_lidar_rays_per_batch=8192,\n",
    "            dataparser=PandaSetDataParserConfig(add_missing_points=True, cameras=(\"front\",)),\n",
    "            num_processes=0\n",
    "        ),\n",
    "        model=NeuRADModelConfig(\n",
    "            eval_num_rays_per_chunk=1 << 15,\n",
    "            camera_optimizer=CameraOptimizerConfig(mode=\"off\"),  # SO3xR3\n",
    "            rgb_upsample_factor=4,\n",
    "        ),\n",
    "        diffusion_model=DiffusionModelConfig(\n",
    "            #model_type=DiffusionModelType.sd,\n",
    "            model_type=DiffusionModelType.mock,\n",
    "            model_id=DiffusionModelId.sd_v2_1,\n",
    "            dtype=\"fp16\",\n",
    "            low_mem_mode=True,\n",
    "            compile_model=False,\n",
    "            lora_weights=None,\n",
    "            noise_strength=0.1,\n",
    "            num_inference_steps=50,\n",
    "        ),\n",
    "        augment_phase_step=1000,\n",
    "        augment_strategy=\"none\",\n",
    "    )\n",
    "asdict(config)"
   ]
  },
  {
   "cell_type": "code",
   "execution_count": null,
   "metadata": {},
   "outputs": [],
   "source": []
  }
 ],
 "metadata": {
  "kernelspec": {
   "display_name": "venv",
   "language": "python",
   "name": "python3"
  },
  "language_info": {
   "name": "python",
   "version": "3.10.12"
  }
 },
 "nbformat": 4,
 "nbformat_minor": 2
}
