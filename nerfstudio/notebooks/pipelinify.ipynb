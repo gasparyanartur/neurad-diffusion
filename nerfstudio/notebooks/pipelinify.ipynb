{
 "cells": [
  {
   "cell_type": "code",
   "execution_count": null,
   "metadata": {},
   "outputs": [],
   "source": [
    "from diffusers import ControlNetModel, UNet2DConditionModel, StableDiffusionImg2ImgPipeline\n",
    "\n",
    "\n",
    "ControlNetModel"
   ]
  }
 ],
 "metadata": {
  "language_info": {
   "name": "python"
  }
 },
 "nbformat": 4,
 "nbformat_minor": 2
}
